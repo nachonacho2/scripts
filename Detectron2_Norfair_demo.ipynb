{
  "nbformat": 4,
  "nbformat_minor": 0,
  "metadata": {
    "colab": {
      "name": "Detectron2-Norfair demo",
      "provenance": [],
      "collapsed_sections": [],
      "toc_visible": true,
      "authorship_tag": "ABX9TyMr8T9ZWxGuodRvq/II8CfV",
      "include_colab_link": true
    },
    "kernelspec": {
      "name": "python3",
      "display_name": "Python 3"
    },
    "accelerator": "GPU"
  },
  "cells": [
    {
      "cell_type": "markdown",
      "metadata": {
        "id": "view-in-github",
        "colab_type": "text"
      },
      "source": [
        "<a href=\"https://colab.research.google.com/github/nachonacho2/scripts/blob/main/Detectron2_Norfair_demo.ipynb\" target=\"_parent\"><img src=\"https://colab.research.google.com/assets/colab-badge.svg\" alt=\"Open In Colab\"/></a>"
      ]
    },
    {
      "cell_type": "markdown",
      "metadata": {
        "id": "vM54r6jlKTII"
      },
      "source": [
        "# Install detectron2 and Norfair"
      ]
    },
    {
      "cell_type": "code",
      "metadata": {
        "id": "9_FzH13EjseR"
      },
      "source": [
        "# install dependencies: \n",
        "!pip install pyyaml==5.1\n",
        "import torch, torchvision\n",
        "print(torch.__version__, torch.cuda.is_available())\n",
        "!gcc --version"
      ],
      "execution_count": null,
      "outputs": []
    },
    {
      "cell_type": "code",
      "metadata": {
        "id": "b-i4hmGYk1dL"
      },
      "source": [
        "# install detectron2: (Colab has CUDA 10.1 + torch 1.7)\n",
        "# See https://detectron2.readthedocs.io/tutorials/install.html for instructions\n",
        "import torch\n",
        "assert torch.__version__.startswith(\"1.7\")\n",
        "!pip install detectron2 -f https://dl.fbaipublicfiles.com/detectron2/wheels/cu101/torch1.7/index.html\n",
        "exit(0)  # After installation, you need to \"restart runtime\" in Colab. This line can also restart runtime"
      ],
      "execution_count": null,
      "outputs": []
    },
    {
      "cell_type": "markdown",
      "metadata": {
        "id": "5cTGHr70ORIx"
      },
      "source": [
        "# Get demo video and trim"
      ]
    },
    {
      "cell_type": "code",
      "metadata": {
        "id": "a65jM_VFF2Hr"
      },
      "source": [
        "# Install dependencies, download the video, and crop 5 seconds for processing\n",
        "!pip install youtube-dl\n",
        "#!pip uninstall -y opencv-python-headless opencv-contrib-python\n",
        "#!apt install python3-opencv  # the one pre-installed have some issues\n",
        "!youtube-dl https://www.youtube.com/watch?v=aio9g9_xVio -f 22 -o video-long.mp4\n",
        "!ffmpeg -i video-long.mp4 -ss 00:00:10 -t 00:00:5 -c:v copy video.mp4"
      ],
      "execution_count": null,
      "outputs": []
    },
    {
      "cell_type": "markdown",
      "metadata": {
        "id": "yGFqhaqfQ3bf"
      },
      "source": [
        "# Norfair demos"
      ]
    },
    {
      "cell_type": "code",
      "metadata": {
        "id": "AFC6mcpJaRNQ"
      },
      "source": [
        "# install Norfair\n",
        "!pip install norfair"
      ],
      "execution_count": null,
      "outputs": []
    },
    {
      "cell_type": "code",
      "metadata": {
        "id": "_ToHS1uAQ3Cc"
      },
      "source": [
        "# get demo scripts\n",
        "!wget https://raw.githubusercontent.com/tryolabs/norfair/master/demos/detectron2/detectron2_cars.py -O detectron2_cars.py\n",
        "!wget https://raw.githubusercontent.com/tryolabs/norfair/master/demos/detectron2/detectron2_config.yaml -O detectron2_config.yaml"
      ],
      "execution_count": null,
      "outputs": []
    },
    {
      "cell_type": "code",
      "metadata": {
        "id": "Ckcfzyy7Pm-W"
      },
      "source": [
        "# run demo tracking script\n",
        "!python detectron2_cars.py"
      ],
      "execution_count": null,
      "outputs": []
    },
    {
      "cell_type": "markdown",
      "metadata": {
        "id": "IKP1udf-VkaE"
      },
      "source": [
        "# Norfair demo with SharifElfouly's mask edit\n"
      ]
    },
    {
      "cell_type": "code",
      "metadata": {
        "id": "9wyX5jo_dhGX"
      },
      "source": [
        "#uninstall norfair if installed above\n",
        "!pip uninstall norfair"
      ],
      "execution_count": null,
      "outputs": []
    },
    {
      "cell_type": "code",
      "metadata": {
        "id": "q0pydwc5brAK"
      },
      "source": [
        "#install SharifElfouly norfair fork with mask edit\n",
        "!pip install git+https://github.com/SharifElfouly/norfair"
      ],
      "execution_count": null,
      "outputs": []
    },
    {
      "cell_type": "code",
      "metadata": {
        "id": "Cxd7w1_Bb7rj"
      },
      "source": [
        "# get demo scripts\n",
        "!wget https://github.com/nachonacho2/scripts/raw/main/detectron2_norfair_mask.py -O detectron2_norfair_mask.py\n",
        "!wget https://raw.githubusercontent.com/tryolabs/norfair/master/demos/detectron2/detectron2_config.yaml -O detectron2_config.yaml"
      ],
      "execution_count": null,
      "outputs": []
    },
    {
      "cell_type": "code",
      "metadata": {
        "id": "kuf1nQ9MVnV0"
      },
      "source": [
        "# run tracking and mask script\n",
        "!python detectron2_norfair_mask.py"
      ],
      "execution_count": null,
      "outputs": []
    }
  ]
}